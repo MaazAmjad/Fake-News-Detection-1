{
 "cells": [
  {
   "cell_type": "code",
   "execution_count": 1,
   "metadata": {},
   "outputs": [],
   "source": [
    "from pandas import DataFrame, read_csv\n",
    "import matplotlib.pyplot as plt\n",
    "import pandas as pd"
   ]
  },
  {
   "cell_type": "code",
   "execution_count": 8,
   "metadata": {},
   "outputs": [
    {
     "name": "stdout",
     "output_type": "stream",
     "text": [
      "   Body ID                                        articleBody\n",
      "0        0  A small meteorite crashed into a wooded area i...\n",
      "1        4  Last week we hinted at what was to come as Ebo...\n",
      "2        5  (NEWSER) – Wonder how long a Quarter Pounder w...\n",
      "3        6  Posting photos of a gun-toting child online, I...\n",
      "4        7  At least 25 suspected Boko Haram insurgents we...\n",
      "                                            Headline  Body ID     Stance\n",
      "0  Police find mass graves with at least '15 bodi...      712  unrelated\n",
      "1  Hundreds of Palestinians flee floods in Gaza a...      158      agree\n",
      "2  Christian Bale passes on role of Steve Jobs, a...      137  unrelated\n",
      "3  HBO and Apple in Talks for $15/Month Apple TV ...     1034  unrelated\n",
      "4  Spider burrowed through tourist's stomach and ...     1923   disagree\n",
      "\n",
      "1683\n",
      "1683\n",
      "49972\n"
     ]
    }
   ],
   "source": [
    "#df short for data frame\n",
    "train_bodies = 'train_bodies.csv'\n",
    "bodies_df = pd.read_csv(train_bodies)\n",
    "print(bodies_df.head(5))\n",
    "\n",
    "train_stances = 'train_stances.csv'\n",
    "stances_df = pd.read_csv(train_stances)\n",
    "print(stances_df.head(5))\n",
    "\n",
    "stances_df.columns = [c.replace(' ', '_') for c in stances_df.columns]\n",
    "bodies_df.columns = [c.replace(' ', '_') for c in bodies_df.columns]\n",
    "\n",
    "print\n",
    "print(len(stances_df.Body_ID.unique()))\n",
    "print(len(bodies_df))\n",
    "print(len(stances_df))"
   ]
  },
  {
   "cell_type": "code",
   "execution_count": 20,
   "metadata": {},
   "outputs": [
    {
     "name": "stdout",
     "output_type": "stream",
     "text": [
      "                                            Headline Body_Text     Stance  \\\n",
      "0  Police find mass graves with at least '15 bodi...            unrelated   \n",
      "1  Hundreds of Palestinians flee floods in Gaza a...                agree   \n",
      "2  Christian Bale passes on role of Steve Jobs, a...            unrelated   \n",
      "3  HBO and Apple in Talks for $15/Month Apple TV ...            unrelated   \n",
      "4  Spider burrowed through tourist's stomach and ...             disagree   \n",
      "5  'Nasa Confirms Earth Will Experience 6 Days of...                agree   \n",
      "6  Accused Boston Marathon Bomber Severely Injure...            unrelated   \n",
      "7  Identity of ISIS terrorist known as 'Jihadi Jo...            unrelated   \n",
      "8  Banksy 'Arrested & Real Identity Revealed' Is ...                agree   \n",
      "9      British Aid Worker Confirmed Murdered By ISIS            unrelated   \n",
      "\n",
      "  Dict_Body_Text Dict_Headline  \n",
      "0                               \n",
      "1                               \n",
      "2                               \n",
      "3                               \n",
      "4                               \n",
      "5                               \n",
      "6                               \n",
      "7                               \n",
      "8                               \n",
      "9                               \n"
     ]
    }
   ],
   "source": [
    "stances_df[\"Body_Text\"] = \"\"\n",
    "stances_df[\"Dict_Body_Text\"] = \"\"\n",
    "stances_df[\"Dict_Headline\"] = \"\"\n",
    "print(stances_df.head(10))"
   ]
  },
  {
   "cell_type": "code",
   "execution_count": 21,
   "metadata": {},
   "outputs": [
    {
     "ename": "AttributeError",
     "evalue": "'Pandas' object has no attribute 'Body_ID'",
     "output_type": "error",
     "traceback": [
      "\u001b[0;31m---------------------------------------------------------------------------\u001b[0m",
      "\u001b[0;31mAttributeError\u001b[0m                            Traceback (most recent call last)",
      "\u001b[0;32m<ipython-input-21-11196417028e>\u001b[0m in \u001b[0;36m<module>\u001b[0;34m()\u001b[0m\n\u001b[1;32m      2\u001b[0m \u001b[0;32mfor\u001b[0m \u001b[0mindex\u001b[0m\u001b[0;34m,\u001b[0m \u001b[0mi\u001b[0m \u001b[0;32min\u001b[0m \u001b[0menumerate\u001b[0m\u001b[0;34m(\u001b[0m\u001b[0mstances_df\u001b[0m\u001b[0;34m.\u001b[0m\u001b[0mitertuples\u001b[0m\u001b[0;34m(\u001b[0m\u001b[0;34m)\u001b[0m\u001b[0;34m)\u001b[0m\u001b[0;34m:\u001b[0m\u001b[0;34m\u001b[0m\u001b[0m\n\u001b[1;32m      3\u001b[0m     \u001b[0;32mfor\u001b[0m \u001b[0mj\u001b[0m \u001b[0;32min\u001b[0m \u001b[0mbodies_df\u001b[0m\u001b[0;34m.\u001b[0m\u001b[0mitertuples\u001b[0m\u001b[0;34m(\u001b[0m\u001b[0;34m)\u001b[0m\u001b[0;34m:\u001b[0m\u001b[0;34m\u001b[0m\u001b[0m\n\u001b[0;32m----> 4\u001b[0;31m         \u001b[0;32mif\u001b[0m \u001b[0mi\u001b[0m\u001b[0;34m.\u001b[0m\u001b[0mBody_ID\u001b[0m \u001b[0;34m==\u001b[0m \u001b[0mj\u001b[0m\u001b[0;34m.\u001b[0m\u001b[0mBody_ID\u001b[0m\u001b[0;34m:\u001b[0m\u001b[0;34m\u001b[0m\u001b[0m\n\u001b[0m\u001b[1;32m      5\u001b[0m             \u001b[0mstances_df\u001b[0m\u001b[0;34m.\u001b[0m\u001b[0mat\u001b[0m\u001b[0;34m[\u001b[0m\u001b[0mindex\u001b[0m\u001b[0;34m,\u001b[0m\u001b[0;34m'Body_Text'\u001b[0m\u001b[0;34m]\u001b[0m \u001b[0;34m=\u001b[0m \u001b[0mj\u001b[0m\u001b[0;34m.\u001b[0m\u001b[0marticleBody\u001b[0m\u001b[0;34m\u001b[0m\u001b[0m\n",
      "\u001b[0;31mAttributeError\u001b[0m: 'Pandas' object has no attribute 'Body_ID'"
     ]
    }
   ],
   "source": [
    "#Add the appropriate body text to each row (using the body id)\n",
    "for index, i in enumerate(stances_df.itertuples()):\n",
    "    for j in bodies_df.itertuples():\n",
    "        if i.Body_ID == j.Body_ID:\n",
    "            stances_df.at[index,'Body_Text'] = j.articleBody"
   ]
  },
  {
   "cell_type": "code",
   "execution_count": 17,
   "metadata": {},
   "outputs": [
    {
     "name": "stdout",
     "output_type": "stream",
     "text": [
      "                                                Headline  \\\n",
      "0      Police find mass graves with at least '15 bodi...   \n",
      "1      Hundreds of Palestinians flee floods in Gaza a...   \n",
      "2      Christian Bale passes on role of Steve Jobs, a...   \n",
      "3      HBO and Apple in Talks for $15/Month Apple TV ...   \n",
      "4      Spider burrowed through tourist's stomach and ...   \n",
      "5      'Nasa Confirms Earth Will Experience 6 Days of...   \n",
      "6      Accused Boston Marathon Bomber Severely Injure...   \n",
      "7      Identity of ISIS terrorist known as 'Jihadi Jo...   \n",
      "8      Banksy 'Arrested & Real Identity Revealed' Is ...   \n",
      "9          British Aid Worker Confirmed Murdered By ISIS   \n",
      "10                                        Gateway Pundit   \n",
      "11     Woman detained in Lebanon is not al-Baghdadi's...   \n",
      "12     Kidnapped Nigerian schoolgirls: Government cla...   \n",
      "13     No, that high school kid didn't make $72 milli...   \n",
      "14     Soon Marijuana May Lead to Ticket, Not Arrest,...   \n",
      "15     Vandals add rude paint job to $2.5m Bugatti (b...   \n",
      "16            Boko Haram Denies Nigeria Cease-Fire Claim   \n",
      "17     No, Robert Plant Didn’t Rip Up an $800 Million...   \n",
      "18          N. Korea’s Kim has leg injury but in control   \n",
      "19         ISIL Beheads American Photojournalist in Iraq   \n",
      "20     Tropical spider burrows under man's skin throu...   \n",
      "21     Boko Haram ceasefire ignored as violence flare...   \n",
      "22     NBC's Tom Brokaw reportedly wants Brian Willia...   \n",
      "23     Would you take a bite out of the world's oldes...   \n",
      "24     NET Extra: Back-from-the-dead Catholic priest ...   \n",
      "25     Rumor debunked: RoboCop-style robots are not p...   \n",
      "26     Luke Somers Dies In Rescue Attempt, Sister Say...   \n",
      "27     Christian Bale Exits Steve Jobs Movie (Exclusive)   \n",
      "28     Microsoft Tried Out Robot Security Guards on I...   \n",
      "29     Report: Christian Bale Just Bailed on the Stev...   \n",
      "...                                                  ...   \n",
      "49942  British Man Slaps People If They Sneeze In Public   \n",
      "49943  Zack Snyder Kills \"Stolen Batmobile\" Rumor Wit...   \n",
      "49944  6 hidden mass graves may hold missing Mexican ...   \n",
      "49945  Kayla Jean Mueller, U.S. hostage, killed in Jo...   \n",
      "49946  Boko Haram denies truce to release kidnapped s...   \n",
      "49947  Another American hostage at risk by Islamic state   \n",
      "49948  Conde Nast's rat problem at One World Trade Ce...   \n",
      "49949  Has North Korean dictator Kim Jong-un been rep...   \n",
      "49950           Isis claims it has US airdrop of weapons   \n",
      "49951  CNN plays chilling audio recording allegedly f...   \n",
      "49952      WHO ‘probing’ whether ISIS fighters got Ebola   \n",
      "49953  Magic Mushrooms Found on Buckingham Palace Gro...   \n",
      "49954  New policy could reduce marijuana possession a...   \n",
      "49955  James Foley remembered as 'brave and tireless'...   \n",
      "49956  NYPD to stop arresting for low-level marijuana...   \n",
      "49957  Guantanamo detainee freed in Bowe Bergdahl swa...   \n",
      "49958         Met police denies reports of Banksy arrest   \n",
      "49959  Wildest Apple Watch rumor yet: 100,000 apps at...   \n",
      "49960   'Hairgate': iPhone hit by new social media storm   \n",
      "49961  Nicaraguan commission on possible meteorite cr...   \n",
      "49962     Would-be rapist has penis severed by angry mob   \n",
      "49963  Nigeria claims deal with Boko Haram on ceasefi...   \n",
      "49964  'Banksy' Reacts To Paris Attack With Poignant ...   \n",
      "49965  Indian 'Rapist' Castrated By Angry Mob Who Hac...   \n",
      "49966  Canadian Soldier Shot At Ottawa War Memorial: ...   \n",
      "49967  Urgent: The Leader of ISIL 'Abu Bakr al-Baghda...   \n",
      "49968  Brian Williams slams social media for speculat...   \n",
      "49969  Mexico Says Missing Students Not Found In Firs...   \n",
      "49970  US Lawmaker: Ten ISIS Fighters Have Been Appre...   \n",
      "49971  Shots Heard In Alleged Brown Shooting Recordin...   \n",
      "\n",
      "                                               Body_Text     Stance  \n",
      "0      Danny Boyle is directing the untitled film\\n\\n...  unrelated  \n",
      "1      Hundreds of Palestinians were evacuated from t...      agree  \n",
      "2      30-year-old Moscow resident was hospitalized w...  unrelated  \n",
      "3      (Reuters) - A Canadian soldier was shot at the...  unrelated  \n",
      "4      Fear not arachnophobes, the story of Bunbury's...   disagree  \n",
      "5      Thousands of people have been duped by a fake ...      agree  \n",
      "6      A British fighter who travelled to Iraq to sto...  unrelated  \n",
      "7      Adding to Apple's iOS 8 launch troubles, a rep...  unrelated  \n",
      "8      If you’ve seen a story floating around on your...      agree  \n",
      "9      The British Islamic State militant who has fea...  unrelated  \n",
      "10     A British rapper whose father is awaiting tria...    discuss  \n",
      "11     An Iraqi official denied that a woman detained...      agree  \n",
      "12     No one has died more times than Fidel Castro.\\...  unrelated  \n",
      "13     The video was one of those viral sensations th...  unrelated  \n",
      "14     After campaigning on a promise to reform stop-...    discuss  \n",
      "15     \"Eh-oh!\" A 19-year-old student is claiming tha...  unrelated  \n",
      "16     ABUJA, Nigeria — The leader of Nigeria's Islam...    discuss  \n",
      "17     Led Zeppelin fans will be disappointed to lear...      agree  \n",
      "18     You want a gold Apple Watch, you say? Then it'...  unrelated  \n",
      "19     James Foley, an American journalist who went m...    discuss  \n",
      "20     Tonight — finally! — ESPN is going to have an ...  unrelated  \n",
      "21     (CNN) -- Boko Haram laughed off Nigeria's anno...    discuss  \n",
      "22     Macaulay Culkin has once again died — at least...  unrelated  \n",
      "23     Claim: An illustration created in response to ...  unrelated  \n",
      "24     A 71 years old cleric Father John Micheal O’ne...      agree  \n",
      "25     Knightscope co-founder Stacy Stephens said rum...      agree  \n",
      "26     A man accused of attempting to rape a girl in ...  unrelated  \n",
      "27     The Islamic State released a video of its jiha...  unrelated  \n",
      "28     A British rapper whose father is awaiting tria...  unrelated  \n",
      "29     Christian Bale is in talks to play Steve Jobs ...    discuss  \n",
      "...                                                  ...        ...  \n",
      "49942  A video posted by ISIL terrorists in Iraq purp...  unrelated  \n",
      "49943  Mexico's attorney general says DNA tests have ...  unrelated  \n",
      "49944  Security forces investigating the role of muni...    discuss  \n",
      "49945  Kim Yo-jong, the younger sister of North Korea...  unrelated  \n",
      "49946  (CNN) -- Despite government claims of a ceasef...    discuss  \n",
      "49947  In a new video, ISIS shows American-made weapo...  unrelated  \n",
      "49948  The World Health Organization is looking into ...  unrelated  \n",
      "49949  The North Korean dictator Kim Jong Un has not ...    discuss  \n",
      "49950  Since the U.S. began airstrikes in Iraq and Sy...  unrelated  \n",
      "49951  A new rumor making the rounds today claims tha...  unrelated  \n",
      "49952  (NEWSER) – Wonder how long a Quarter Pounder w...  unrelated  \n",
      "49953  After being officially dead for 48 minutes and...  unrelated  \n",
      "49954  India is going through some serious public sec...  unrelated  \n",
      "49955  'It's a nonsense', says official\\n\\nNorth Kore...  unrelated  \n",
      "49956  Small-time drug offenders in New York City cou...    discuss  \n",
      "49957  Michael Phelps may be off to rehab trying to f...  unrelated  \n",
      "49958  Wanted: Islamic State group chief Abu Bakr al-...  unrelated  \n",
      "49959  One passenger at Dulles International Airport ...  unrelated  \n",
      "49960  The man who jumped a fence and was able to run...  unrelated  \n",
      "49961  CHILPANCINGO, Mexico (AP) — Authorities testin...  unrelated  \n",
      "49962  The London Metropolitan Police has denied repo...  unrelated  \n",
      "49963  Google has bought about half of Pacific Shores...  unrelated  \n",
      "49964  Police in Carlisle are hunting a middle-aged m...  unrelated  \n",
      "49965  Money makes the world go round, right?\\n\\nLunc...  unrelated  \n",
      "49966  Apple would never lower itself to rubbing elbo...  unrelated  \n",
      "49967  (CNN) -- Boko Haram laughed off Nigeria's anno...  unrelated  \n",
      "49968  Along with unveiling the Apple Watch earlier t...  unrelated  \n",
      "49969  The bodies found in a mass grave were confirme...      agree  \n",
      "49970  Rep. Duncan Hunter (R-CA) told Greta Van Suste...    discuss  \n",
      "49971  A married TV actor who met a young woman and k...  unrelated  \n",
      "\n",
      "[49972 rows x 3 columns]\n"
     ]
    }
   ],
   "source": [
    "stances_df = stances_df[['Headline','Body_Text','Stance']]\n",
    "print(stances_df)"
   ]
  },
  {
   "cell_type": "code",
   "execution_count": 18,
   "metadata": {},
   "outputs": [],
   "source": [
    "%matplotlib inline\n",
    "discuss_df = stances_df.loc[stances_df['Stance'] == 'discuss']\n",
    "agree_df = stances_df.loc[stances_df['Stance'] == 'agree']\n",
    "disagree_df = stances_df.loc[stances_df['Stance'] == 'disagree']\n",
    "unrelated_df = stances_df.loc[stances_df['Stance'] == 'unrelated']"
   ]
  },
  {
   "cell_type": "code",
   "execution_count": 19,
   "metadata": {},
   "outputs": [],
   "source": [
    "\n",
    "#Tokenisze headlines, body text (2 different vectors)\n",
    "from collections import Counter\n",
    "for index, headline in enumerate(stances_df['Headline']):\n",
    "    Counter(headline.split())\n",
    "for index, body_text in enumerate(stances_df['Body_Text']):\n",
    "    Counter(body_text.split())"
   ]
  },
  {
   "cell_type": "code",
   "execution_count": null,
   "metadata": {},
   "outputs": [],
   "source": []
  }
 ],
 "metadata": {
  "kernelspec": {
   "display_name": "Python 3",
   "language": "python",
   "name": "python3"
  },
  "language_info": {
   "codemirror_mode": {
    "name": "ipython",
    "version": 2
   },
   "file_extension": ".py",
   "mimetype": "text/x-python",
   "name": "python",
   "nbconvert_exporter": "python",
   "pygments_lexer": "ipython2",
   "version": "2.7.14"
  }
 },
 "nbformat": 4,
 "nbformat_minor": 2
}
