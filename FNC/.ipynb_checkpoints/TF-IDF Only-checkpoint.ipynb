{
 "cells": [
  {
   "cell_type": "markdown",
   "metadata": {
    "scrolled": true
   },
   "source": [
    "## TF-IDF Feature Extraction and Random Forest Classifier\n",
    "\n",
    "The following sources were used to construct this Jupyter Notebook:\n",
    "\n",
    "* [Numpy: Dot Multiplication, Vstack, Hstack, Flatten](https://www.youtube.com/watch?v=nkO6bmp511M)\n",
    "* [Scikit Learn TF-IDF Feature Extraction and Latent Semantic Analysis](https://www.youtube.com/watch?v=BJ0MnawUpaU)\n",
    "* [Fake News Challenge TF-IDF Baseline](https://github.com/gmyrianthous/fakenewschallenge/blob/master/baseline.py)\n",
    "* [Python TF-IDF Algorithm Built From Scratch](https://www.youtube.com/watch?v=hXNbFNCgPfY)\n",
    "* [Theory Behind TF-IDF](https://www.youtube.com/watch?v=4vT4fzjkGCQ)"
   ]
  },
  {
   "cell_type": "code",
   "execution_count": 20,
   "metadata": {},
   "outputs": [],
   "source": [
    "#Import all required modules\n",
    "from pandas import DataFrame, read_csv\n",
    "import matplotlib.pyplot as plt\n",
    "import pandas as pd\n",
    "from sklearn.naive_bayes import MultinomialNB\n",
    "from sklearn.ensemble import RandomForestClassifier\n",
    "from sklearn.metrics import accuracy_score\n",
    "from sklearn.feature_extraction.text import TfidfVectorizer\n",
    "from scipy.sparse import hstack\n",
    "import score"
   ]
  },
  {
   "cell_type": "code",
   "execution_count": 2,
   "metadata": {},
   "outputs": [],
   "source": [
    "#Import data from CSV file and create a dataframe\n",
    "def create_dataframe(filename):\n",
    "    #Read file into a pandas dataframe\n",
    "    df = pd.read_csv(filename)\n",
    "    #Remove white space in column names\n",
    "    df.columns = [c.replace(' ', '_') for c in df.columns]\n",
    "    return df"
   ]
  },
  {
   "cell_type": "code",
   "execution_count": 3,
   "metadata": {},
   "outputs": [
    {
     "data": {
      "text/html": [
       "<div>\n",
       "<style scoped>\n",
       "    .dataframe tbody tr th:only-of-type {\n",
       "        vertical-align: middle;\n",
       "    }\n",
       "\n",
       "    .dataframe tbody tr th {\n",
       "        vertical-align: top;\n",
       "    }\n",
       "\n",
       "    .dataframe thead th {\n",
       "        text-align: right;\n",
       "    }\n",
       "</style>\n",
       "<table border=\"1\" class=\"dataframe\">\n",
       "  <thead>\n",
       "    <tr style=\"text-align: right;\">\n",
       "      <th></th>\n",
       "      <th>Headline</th>\n",
       "      <th>Body_ID</th>\n",
       "      <th>Stance</th>\n",
       "    </tr>\n",
       "  </thead>\n",
       "  <tbody>\n",
       "    <tr>\n",
       "      <th>0</th>\n",
       "      <td>Police find mass graves with at least '15 bodi...</td>\n",
       "      <td>712</td>\n",
       "      <td>unrelated</td>\n",
       "    </tr>\n",
       "    <tr>\n",
       "      <th>1</th>\n",
       "      <td>Hundreds of Palestinians flee floods in Gaza a...</td>\n",
       "      <td>158</td>\n",
       "      <td>agree</td>\n",
       "    </tr>\n",
       "    <tr>\n",
       "      <th>2</th>\n",
       "      <td>Christian Bale passes on role of Steve Jobs, a...</td>\n",
       "      <td>137</td>\n",
       "      <td>unrelated</td>\n",
       "    </tr>\n",
       "    <tr>\n",
       "      <th>3</th>\n",
       "      <td>HBO and Apple in Talks for $15/Month Apple TV ...</td>\n",
       "      <td>1034</td>\n",
       "      <td>unrelated</td>\n",
       "    </tr>\n",
       "    <tr>\n",
       "      <th>4</th>\n",
       "      <td>Spider burrowed through tourist's stomach and ...</td>\n",
       "      <td>1923</td>\n",
       "      <td>disagree</td>\n",
       "    </tr>\n",
       "  </tbody>\n",
       "</table>\n",
       "</div>"
      ],
      "text/plain": [
       "                                            Headline  Body_ID     Stance\n",
       "0  Police find mass graves with at least '15 bodi...      712  unrelated\n",
       "1  Hundreds of Palestinians flee floods in Gaza a...      158      agree\n",
       "2  Christian Bale passes on role of Steve Jobs, a...      137  unrelated\n",
       "3  HBO and Apple in Talks for $15/Month Apple TV ...     1034  unrelated\n",
       "4  Spider burrowed through tourist's stomach and ...     1923   disagree"
      ]
     },
     "execution_count": 3,
     "metadata": {},
     "output_type": "execute_result"
    }
   ],
   "source": [
    "#Create dataframes for both training and testing sets\n",
    "train_df_tmp = create_dataframe('train_stances.csv')\n",
    "test_df_tmp = create_dataframe('competition_test_stances.csv')\n",
    "train_bodies_df = create_dataframe('train_bodies.csv')\n",
    "test_bodies_df = create_dataframe('test_bodies.csv')\n",
    "\n",
    "train_df_tmp.head(5)"
   ]
  },
  {
   "cell_type": "code",
   "execution_count": 4,
   "metadata": {},
   "outputs": [],
   "source": [
    "train_df = pd.merge(train_df_tmp,\n",
    "                 train_bodies_df[['Body_ID', 'articleBody']],\n",
    "                 on='Body_ID')\n",
    "\n",
    "test_df = pd.merge(test_df_tmp,\n",
    "                 test_bodies_df[['Body_ID', 'articleBody']],\n",
    "                 on='Body_ID')\n",
    "\n",
    "train_df = train_df.rename(columns={'articleBody': 'Body_Text'})\n",
    "test_df = test_df.rename(columns={'articleBody': 'Body_Text'})"
   ]
  },
  {
   "cell_type": "code",
   "execution_count": 5,
   "metadata": {},
   "outputs": [
    {
     "data": {
      "text/html": [
       "<div>\n",
       "<style scoped>\n",
       "    .dataframe tbody tr th:only-of-type {\n",
       "        vertical-align: middle;\n",
       "    }\n",
       "\n",
       "    .dataframe tbody tr th {\n",
       "        vertical-align: top;\n",
       "    }\n",
       "\n",
       "    .dataframe thead th {\n",
       "        text-align: right;\n",
       "    }\n",
       "</style>\n",
       "<table border=\"1\" class=\"dataframe\">\n",
       "  <thead>\n",
       "    <tr style=\"text-align: right;\">\n",
       "      <th></th>\n",
       "      <th>Headline</th>\n",
       "      <th>Body_ID</th>\n",
       "      <th>Stance</th>\n",
       "      <th>Body_Text</th>\n",
       "    </tr>\n",
       "  </thead>\n",
       "  <tbody>\n",
       "    <tr>\n",
       "      <th>7305</th>\n",
       "      <td>Apple to keep gold Watch Editions in special i...</td>\n",
       "      <td>1</td>\n",
       "      <td>unrelated</td>\n",
       "      <td>Al-Sisi has denied Israeli reports stating tha...</td>\n",
       "    </tr>\n",
       "    <tr>\n",
       "      <th>7303</th>\n",
       "      <td>Apple installing safes in-store to protect gol...</td>\n",
       "      <td>1</td>\n",
       "      <td>unrelated</td>\n",
       "      <td>Al-Sisi has denied Israeli reports stating tha...</td>\n",
       "    </tr>\n",
       "    <tr>\n",
       "      <th>7304</th>\n",
       "      <td>El-Sisi denies claims he'll give Sinai land to...</td>\n",
       "      <td>1</td>\n",
       "      <td>agree</td>\n",
       "      <td>Al-Sisi has denied Israeli reports stating tha...</td>\n",
       "    </tr>\n",
       "    <tr>\n",
       "      <th>7306</th>\n",
       "      <td>Apple Stores to Keep Gold “Edition” Apple Watc...</td>\n",
       "      <td>1</td>\n",
       "      <td>unrelated</td>\n",
       "      <td>Al-Sisi has denied Israeli reports stating tha...</td>\n",
       "    </tr>\n",
       "    <tr>\n",
       "      <th>7307</th>\n",
       "      <td>South Korean woman's hair 'eaten' by robot vac...</td>\n",
       "      <td>1</td>\n",
       "      <td>unrelated</td>\n",
       "      <td>Al-Sisi has denied Israeli reports stating tha...</td>\n",
       "    </tr>\n",
       "  </tbody>\n",
       "</table>\n",
       "</div>"
      ],
      "text/plain": [
       "                                               Headline  Body_ID     Stance  \\\n",
       "7305  Apple to keep gold Watch Editions in special i...        1  unrelated   \n",
       "7303  Apple installing safes in-store to protect gol...        1  unrelated   \n",
       "7304  El-Sisi denies claims he'll give Sinai land to...        1      agree   \n",
       "7306  Apple Stores to Keep Gold “Edition” Apple Watc...        1  unrelated   \n",
       "7307  South Korean woman's hair 'eaten' by robot vac...        1  unrelated   \n",
       "\n",
       "                                              Body_Text  \n",
       "7305  Al-Sisi has denied Israeli reports stating tha...  \n",
       "7303  Al-Sisi has denied Israeli reports stating tha...  \n",
       "7304  Al-Sisi has denied Israeli reports stating tha...  \n",
       "7306  Al-Sisi has denied Israeli reports stating tha...  \n",
       "7307  Al-Sisi has denied Israeli reports stating tha...  "
      ]
     },
     "execution_count": 5,
     "metadata": {},
     "output_type": "execute_result"
    }
   ],
   "source": [
    "test_df.sort_values(by=['Body_ID']).head(5)"
   ]
  },
  {
   "cell_type": "code",
   "execution_count": 6,
   "metadata": {},
   "outputs": [
    {
     "data": {
      "text/html": [
       "<div>\n",
       "<style scoped>\n",
       "    .dataframe tbody tr th:only-of-type {\n",
       "        vertical-align: middle;\n",
       "    }\n",
       "\n",
       "    .dataframe tbody tr th {\n",
       "        vertical-align: top;\n",
       "    }\n",
       "\n",
       "    .dataframe thead th {\n",
       "        text-align: right;\n",
       "    }\n",
       "</style>\n",
       "<table border=\"1\" class=\"dataframe\">\n",
       "  <thead>\n",
       "    <tr style=\"text-align: right;\">\n",
       "      <th></th>\n",
       "      <th>Headline</th>\n",
       "      <th>Body_ID</th>\n",
       "      <th>Stance</th>\n",
       "      <th>Body_Text</th>\n",
       "    </tr>\n",
       "  </thead>\n",
       "  <tbody>\n",
       "    <tr>\n",
       "      <th>41651</th>\n",
       "      <td>Soldier shot, Parliament locked down after gun...</td>\n",
       "      <td>0</td>\n",
       "      <td>unrelated</td>\n",
       "      <td>A small meteorite crashed into a wooded area i...</td>\n",
       "    </tr>\n",
       "    <tr>\n",
       "      <th>41657</th>\n",
       "      <td>Italian catches huge wels catfish; is it a rec...</td>\n",
       "      <td>0</td>\n",
       "      <td>unrelated</td>\n",
       "      <td>A small meteorite crashed into a wooded area i...</td>\n",
       "    </tr>\n",
       "    <tr>\n",
       "      <th>41658</th>\n",
       "      <td>Not coming to a store near you: The pumpkin sp...</td>\n",
       "      <td>0</td>\n",
       "      <td>unrelated</td>\n",
       "      <td>A small meteorite crashed into a wooded area i...</td>\n",
       "    </tr>\n",
       "    <tr>\n",
       "      <th>41659</th>\n",
       "      <td>One gunman killed in shooting on Parliament Hi...</td>\n",
       "      <td>0</td>\n",
       "      <td>unrelated</td>\n",
       "      <td>A small meteorite crashed into a wooded area i...</td>\n",
       "    </tr>\n",
       "    <tr>\n",
       "      <th>41660</th>\n",
       "      <td>Soldier shot at war memorial in Canada</td>\n",
       "      <td>0</td>\n",
       "      <td>unrelated</td>\n",
       "      <td>A small meteorite crashed into a wooded area i...</td>\n",
       "    </tr>\n",
       "  </tbody>\n",
       "</table>\n",
       "</div>"
      ],
      "text/plain": [
       "                                                Headline  Body_ID     Stance  \\\n",
       "41651  Soldier shot, Parliament locked down after gun...        0  unrelated   \n",
       "41657  Italian catches huge wels catfish; is it a rec...        0  unrelated   \n",
       "41658  Not coming to a store near you: The pumpkin sp...        0  unrelated   \n",
       "41659  One gunman killed in shooting on Parliament Hi...        0  unrelated   \n",
       "41660             Soldier shot at war memorial in Canada        0  unrelated   \n",
       "\n",
       "                                               Body_Text  \n",
       "41651  A small meteorite crashed into a wooded area i...  \n",
       "41657  A small meteorite crashed into a wooded area i...  \n",
       "41658  A small meteorite crashed into a wooded area i...  \n",
       "41659  A small meteorite crashed into a wooded area i...  \n",
       "41660  A small meteorite crashed into a wooded area i...  "
      ]
     },
     "execution_count": 6,
     "metadata": {},
     "output_type": "execute_result"
    }
   ],
   "source": [
    "train_df.sort_values(by=['Body_ID']).head(5)"
   ]
  },
  {
   "cell_type": "code",
   "execution_count": 7,
   "metadata": {},
   "outputs": [],
   "source": [
    "#Apply Scikit Learn TFIDF Feature Extraction Algorithm\n",
    "body_text_vectorizer = TfidfVectorizer(ngram_range=(1, 2), lowercase=True, stop_words='english',max_features=1024)\n",
    "headline_vectorizer = TfidfVectorizer(ngram_range=(1, 2), lowercase=True, stop_words='english',max_features=1024)\n",
    "\n",
    "#Create vocabulary based on training data\n",
    "train_body_tfidf = body_text_vectorizer.fit_transform(train_df['Body_Text'])\n",
    "train_headline_tfidf = headline_vectorizer.fit_transform(train_df['Headline'])\n",
    "\n",
    "#Use vocabulary for testing data\n",
    "test_body_tfidf = body_text_vectorizer.transform(test_df['Body_Text'])\n",
    "test_headline_tfidf = headline_vectorizer.transform(test_df['Headline'])"
   ]
  },
  {
   "cell_type": "code",
   "execution_count": 8,
   "metadata": {},
   "outputs": [
    {
     "data": {
      "text/plain": [
       "<1x755550 sparse matrix of type '<type 'numpy.float64'>'\n",
       "\twith 380 stored elements in Compressed Sparse Row format>"
      ]
     },
     "execution_count": 8,
     "metadata": {},
     "output_type": "execute_result"
    }
   ],
   "source": [
    "train_body_tfidf[0]"
   ]
  },
  {
   "cell_type": "code",
   "execution_count": 9,
   "metadata": {},
   "outputs": [
    {
     "data": {
      "text/plain": [
       "<1x27736 sparse matrix of type '<type 'numpy.float64'>'\n",
       "\twith 45 stored elements in Compressed Sparse Row format>"
      ]
     },
     "execution_count": 9,
     "metadata": {},
     "output_type": "execute_result"
    }
   ],
   "source": [
    "train_headline_tfidf[0]"
   ]
  },
  {
   "cell_type": "code",
   "execution_count": 10,
   "metadata": {},
   "outputs": [
    {
     "name": "stdout",
     "output_type": "stream",
     "text": [
      "  (0, 174354)\t0.06200681380656636\n",
      "  (0, 97557)\t0.09354829162140987\n",
      "  (0, 196066)\t0.07979784837978038\n",
      "  (0, 702552)\t0.08135343684960032\n",
      "  (0, 247007)\t0.05176429143809242\n",
      "  (0, 597868)\t0.03338498986328063\n",
      "  (0, 561949)\t0.06779623930840628\n",
      "  (0, 232528)\t0.04395045434091362\n",
      "  (0, 494070)\t0.07805982823422668\n",
      "  (0, 53070)\t0.063482690308879\n",
      "  (0, 258872)\t0.027936123600898782\n",
      "  (0, 637481)\t0.05508721845898659\n",
      "  (0, 745821)\t0.06781347044972756\n",
      "  (0, 618881)\t0.032879698429556264\n",
      "  (0, 345545)\t0.1431424397960018\n",
      "  (0, 88205)\t0.031251312503035235\n",
      "  (0, 78167)\t0.01949559749389113\n",
      "  (0, 720639)\t0.03257033840746655\n",
      "  (0, 335059)\t0.03312746160253445\n",
      "  (0, 94229)\t0.03223479004606912\n",
      "  (0, 27501)\t0.04828266406067473\n",
      "  (0, 18115)\t0.03038156880675647\n",
      "  (0, 619425)\t0.030523858614096625\n",
      "  (0, 49573)\t0.03379560916946003\n",
      "  (0, 88317)\t0.04828266406067473\n",
      "  :\t:\n",
      "  (49971, 54969)\t0.04538400470399851\n",
      "  (49971, 640031)\t0.04538400470399851\n",
      "  (49971, 115859)\t0.04538400470399851\n",
      "  (49971, 199903)\t0.04538400470399851\n",
      "  (49971, 179027)\t0.04538400470399851\n",
      "  (49971, 369260)\t0.04538400470399851\n",
      "  (49971, 644915)\t0.04538400470399851\n",
      "  (49971, 85647)\t0.04538400470399851\n",
      "  (49971, 106912)\t0.04538400470399851\n",
      "  (49971, 720600)\t0.04538400470399851\n",
      "  (49971, 662287)\t0.04538400470399851\n",
      "  (49971, 675587)\t0.04538400470399851\n",
      "  (49971, 161058)\t0.04538400470399851\n",
      "  (49971, 556857)\t0.04538400470399851\n",
      "  (49971, 55897)\t0.04538400470399851\n",
      "  (49971, 725746)\t0.04538400470399851\n",
      "  (49971, 601426)\t0.04538400470399851\n",
      "  (49971, 57467)\t0.04538400470399851\n",
      "  (49971, 225902)\t0.04538400470399851\n",
      "  (49971, 724709)\t0.04538400470399851\n",
      "  (49971, 213378)\t0.04538400470399851\n",
      "  (49971, 424985)\t0.04538400470399851\n",
      "  (49971, 370034)\t0.04538400470399851\n",
      "  (49971, 189252)\t0.04538400470399851\n",
      "  (49971, 228721)\t0.04538400470399851\n"
     ]
    }
   ],
   "source": [
    "#Tuple represents (Instance, Feature); value to the right of the tuple \n",
    "#represents the feature's tf-idf score\n",
    "print(train_body_tfidf)"
   ]
  },
  {
   "cell_type": "code",
   "execution_count": 11,
   "metadata": {},
   "outputs": [],
   "source": [
    "#Merge headline and body_text tf-idf vectors together - Stack arrays in sequence horizontally\n",
    "train_features = hstack([train_body_tfidf, train_headline_tfidf])\n",
    "test_features = hstack([test_body_tfidf, test_headline_tfidf])"
   ]
  },
  {
   "cell_type": "code",
   "execution_count": 12,
   "metadata": {},
   "outputs": [
    {
     "name": "stdout",
     "output_type": "stream",
     "text": [
      "  (0, 174354)\t0.06200681380656636\n",
      "  (0, 97557)\t0.09354829162140987\n",
      "  (0, 196066)\t0.07979784837978038\n",
      "  (0, 702552)\t0.08135343684960032\n",
      "  (0, 247007)\t0.05176429143809242\n",
      "  (0, 597868)\t0.03338498986328063\n",
      "  (0, 561949)\t0.06779623930840628\n",
      "  (0, 232528)\t0.04395045434091362\n",
      "  (0, 494070)\t0.07805982823422668\n",
      "  (0, 53070)\t0.063482690308879\n",
      "  (0, 258872)\t0.027936123600898782\n",
      "  (0, 637481)\t0.05508721845898659\n",
      "  (0, 745821)\t0.06781347044972756\n",
      "  (0, 618881)\t0.032879698429556264\n",
      "  (0, 345545)\t0.1431424397960018\n",
      "  (0, 88205)\t0.031251312503035235\n",
      "  (0, 78167)\t0.01949559749389113\n",
      "  (0, 720639)\t0.03257033840746655\n",
      "  (0, 335059)\t0.03312746160253445\n",
      "  (0, 94229)\t0.03223479004606912\n",
      "  (0, 27501)\t0.04828266406067473\n",
      "  (0, 18115)\t0.03038156880675647\n",
      "  (0, 619425)\t0.030523858614096625\n",
      "  (0, 49573)\t0.03379560916946003\n",
      "  (0, 88317)\t0.04828266406067473\n",
      "  :\t:\n",
      "  (49971, 757303)\t0.17594146420094306\n",
      "  (49971, 781978)\t0.09006071587243318\n",
      "  (49971, 757403)\t0.09697627881678512\n",
      "  (49971, 774465)\t0.14103932478419584\n",
      "  (49971, 779108)\t0.13344304068782745\n",
      "  (49971, 781868)\t0.16586936759200843\n",
      "  (49971, 769926)\t0.17419653723070003\n",
      "  (49971, 757384)\t0.2061559038912546\n",
      "  (49971, 780683)\t0.21874949362453894\n",
      "  (49971, 781869)\t0.21874949362453894\n",
      "  (49971, 782079)\t0.21874949362453894\n",
      "  (49971, 769930)\t0.21874949362453894\n",
      "  (49971, 774480)\t0.21874949362453894\n",
      "  (49971, 780684)\t0.21874949362453894\n",
      "  (49971, 781870)\t0.21874949362453894\n",
      "  (49971, 757456)\t0.21874949362453894\n",
      "  (49971, 782080)\t0.21874949362453894\n",
      "  (49971, 769931)\t0.21874949362453894\n",
      "  (49971, 774481)\t0.21874949362453894\n",
      "  (49971, 780685)\t0.21874949362453894\n",
      "  (49971, 781871)\t0.21874949362453894\n",
      "  (49971, 757457)\t0.21874949362453894\n",
      "  (49971, 782081)\t0.21874949362453894\n",
      "  (49971, 769932)\t0.21874949362453894\n",
      "  (49971, 774482)\t0.21874949362453894\n"
     ]
    }
   ],
   "source": [
    "#Feature vector (the headline and body text features merged by hstack)\n",
    "#SVD should be applied here?\n",
    "print(train_features)"
   ]
  },
  {
   "cell_type": "code",
   "execution_count": 15,
   "metadata": {},
   "outputs": [],
   "source": [
    "#Extract training and test labels\n",
    "train_labels = list(train_df['Stance'])\n",
    "test_labels = list(test_df['Stance'])"
   ]
  },
  {
   "cell_type": "code",
   "execution_count": 18,
   "metadata": {},
   "outputs": [
    {
     "data": {
      "text/plain": [
       "0.692834376106717"
      ]
     },
     "execution_count": 18,
     "metadata": {},
     "output_type": "execute_result"
    }
   ],
   "source": [
    "#Initialize random forest classifier (Scikit Learn)\n",
    "rf_classifier = RandomForestClassifier(n_estimators=10)\n",
    "\n",
    "y_pred = rf_classifier.fit(train_features, train_labels).predict(test_features)\n",
    "\n",
    "accuracy_score(test_labels, y_pred)"
   ]
  },
  {
   "cell_type": "code",
   "execution_count": 19,
   "metadata": {},
   "outputs": [
    {
     "data": {
      "text/plain": [
       "0.717782237437532"
      ]
     },
     "execution_count": 19,
     "metadata": {},
     "output_type": "execute_result"
    }
   ],
   "source": [
    "#Initialize multinomialnb classifier\n",
    "nb_classifier = MultinomialNB(alpha=1.0, class_prior=None, fit_prior=True)\n",
    "\n",
    "y_pred = nb_classifier.fit(train_features,train_labels).predict(test_features)\n",
    "\n",
    "accuracy_score(test_labels, y_pred)"
   ]
  },
  {
   "cell_type": "code",
   "execution_count": 22,
   "metadata": {},
   "outputs": [
    {
     "name": "stdout",
     "output_type": "stream",
     "text": [
      "-------------------------------------------------------------\n",
      "|           |   agree   | disagree  |  discuss  | unrelated |\n",
      "-------------------------------------------------------------\n",
      "|   agree   |     0     |     0     |     9     |   1894    |\n",
      "-------------------------------------------------------------\n",
      "| disagree  |     0     |     0     |     2     |    695    |\n",
      "-------------------------------------------------------------\n",
      "|  discuss  |     0     |     0     |    48     |   4416    |\n",
      "-------------------------------------------------------------\n",
      "| unrelated |    17     |     0     |    139    |   18193   |\n",
      "-------------------------------------------------------------\n",
      "Score: 4599.0 out of 11651.25\t(39.4721596395%)\n"
     ]
    }
   ],
   "source": [
    "score.report_score(test_labels,y_pred)"
   ]
  },
  {
   "cell_type": "code",
   "execution_count": null,
   "metadata": {},
   "outputs": [],
   "source": [
    "#Add predicted labels to test dataframe\n",
    "#test_df['RF_Predicted_Stance'] = list(y_pred)\n",
    "#test_df2 = test_df[['Headline','Body_Text','RF_Predicted_Stance','Stance']]\n",
    "#test_df2[test_df2['RF_Predicted_Stance'] == 'unrelated']"
   ]
  },
  {
   "cell_type": "code",
   "execution_count": null,
   "metadata": {},
   "outputs": [],
   "source": []
  },
  {
   "cell_type": "code",
   "execution_count": null,
   "metadata": {},
   "outputs": [],
   "source": []
  }
 ],
 "metadata": {
  "kernelspec": {
   "display_name": "Python 3",
   "language": "python",
   "name": "python3"
  },
  "language_info": {
   "codemirror_mode": {
    "name": "ipython",
    "version": 2
   },
   "file_extension": ".py",
   "mimetype": "text/x-python",
   "name": "python",
   "nbconvert_exporter": "python",
   "pygments_lexer": "ipython2",
   "version": "2.7.14"
  }
 },
 "nbformat": 4,
 "nbformat_minor": 2
}
