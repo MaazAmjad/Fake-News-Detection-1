{
 "cells": [
  {
   "cell_type": "markdown",
   "metadata": {
    "scrolled": true
   },
   "source": [
    "## TF-IDF Feature Extraction and Random Forest Classifier\n",
    "\n",
    "The following sources were used to construct this Jupyter Notebook:\n",
    "\n",
    "* [Numpy: Dot Multiplication, Vstack, Hstack, Flatten](https://www.youtube.com/watch?v=nkO6bmp511M)\n",
    "* [Scikit Learn TF-IDF Feature Extraction and Latent Semantic Analysis](https://www.youtube.com/watch?v=BJ0MnawUpaU)\n",
    "* [Fake News Challenge TF-IDF Baseline](https://github.com/gmyrianthous/fakenewschallenge/blob/master/baseline.py)\n",
    "* [Python TF-IDF Algorithm Built From Scratch](https://www.youtube.com/watch?v=hXNbFNCgPfY)\n",
    "* [Theory Behind TF-IDF](https://www.youtube.com/watch?v=4vT4fzjkGCQ)"
   ]
  },
  {
   "cell_type": "code",
   "execution_count": 1,
   "metadata": {
    "collapsed": true
   },
   "outputs": [],
   "source": [
    "#Import all required modules\n",
    "from pandas import DataFrame, read_csv\n",
    "import matplotlib.pyplot as plt\n",
    "import pandas as pd\n",
    "from sklearn.naive_bayes import MultinomialNB\n",
    "from sklearn.ensemble import RandomForestClassifier\n",
    "from sklearn.metrics import accuracy_score\n",
    "from sklearn.feature_extraction.text import TfidfVectorizer\n",
    "from scipy.sparse import hstack\n",
    "import score"
   ]
  },
  {
   "cell_type": "code",
   "execution_count": 2,
   "metadata": {
    "collapsed": true
   },
   "outputs": [],
   "source": [
    "#Import data from CSV file and create a dataframe\n",
    "def create_dataframe(filename):\n",
    "    #Read file into a pandas dataframe\n",
    "    df = pd.read_csv(filename)\n",
    "    #Remove white space in column names\n",
    "    df.columns = [c.replace(' ', '_') for c in df.columns]\n",
    "    return df"
   ]
  },
  {
   "cell_type": "code",
   "execution_count": 3,
   "metadata": {},
   "outputs": [
    {
     "data": {
      "text/html": [
       "<div>\n",
       "<style>\n",
       "    .dataframe thead tr:only-child th {\n",
       "        text-align: right;\n",
       "    }\n",
       "\n",
       "    .dataframe thead th {\n",
       "        text-align: left;\n",
       "    }\n",
       "\n",
       "    .dataframe tbody tr th {\n",
       "        vertical-align: top;\n",
       "    }\n",
       "</style>\n",
       "<table border=\"1\" class=\"dataframe\">\n",
       "  <thead>\n",
       "    <tr style=\"text-align: right;\">\n",
       "      <th></th>\n",
       "      <th>Headline</th>\n",
       "      <th>Body_ID</th>\n",
       "      <th>Stance</th>\n",
       "    </tr>\n",
       "  </thead>\n",
       "  <tbody>\n",
       "    <tr>\n",
       "      <th>0</th>\n",
       "      <td>Police find mass graves with at least '15 bodi...</td>\n",
       "      <td>712</td>\n",
       "      <td>unrelated</td>\n",
       "    </tr>\n",
       "    <tr>\n",
       "      <th>1</th>\n",
       "      <td>Hundreds of Palestinians flee floods in Gaza a...</td>\n",
       "      <td>158</td>\n",
       "      <td>agree</td>\n",
       "    </tr>\n",
       "    <tr>\n",
       "      <th>2</th>\n",
       "      <td>Christian Bale passes on role of Steve Jobs, a...</td>\n",
       "      <td>137</td>\n",
       "      <td>unrelated</td>\n",
       "    </tr>\n",
       "    <tr>\n",
       "      <th>3</th>\n",
       "      <td>HBO and Apple in Talks for $15/Month Apple TV ...</td>\n",
       "      <td>1034</td>\n",
       "      <td>unrelated</td>\n",
       "    </tr>\n",
       "    <tr>\n",
       "      <th>4</th>\n",
       "      <td>Spider burrowed through tourist's stomach and ...</td>\n",
       "      <td>1923</td>\n",
       "      <td>disagree</td>\n",
       "    </tr>\n",
       "  </tbody>\n",
       "</table>\n",
       "</div>"
      ],
      "text/plain": [
       "                                            Headline  Body_ID     Stance\n",
       "0  Police find mass graves with at least '15 bodi...      712  unrelated\n",
       "1  Hundreds of Palestinians flee floods in Gaza a...      158      agree\n",
       "2  Christian Bale passes on role of Steve Jobs, a...      137  unrelated\n",
       "3  HBO and Apple in Talks for $15/Month Apple TV ...     1034  unrelated\n",
       "4  Spider burrowed through tourist's stomach and ...     1923   disagree"
      ]
     },
     "execution_count": 3,
     "metadata": {},
     "output_type": "execute_result"
    }
   ],
   "source": [
    "#Create dataframes for both training and testing sets\n",
    "train_df_tmp = create_dataframe('train_stances.csv')\n",
    "test_df_tmp = create_dataframe('competition_test_stances.csv')\n",
    "train_bodies_df = create_dataframe('train_bodies.csv')\n",
    "test_bodies_df = create_dataframe('test_bodies.csv')\n",
    "\n",
    "train_df_tmp.head(5)"
   ]
  },
  {
   "cell_type": "code",
   "execution_count": 4,
   "metadata": {
    "collapsed": true
   },
   "outputs": [],
   "source": [
    "train_df = pd.merge(train_df_tmp,\n",
    "                 train_bodies_df[['Body_ID', 'articleBody']],\n",
    "                 on='Body_ID')\n",
    "\n",
    "test_df = pd.merge(test_df_tmp,\n",
    "                 test_bodies_df[['Body_ID', 'articleBody']],\n",
    "                 on='Body_ID')\n",
    "\n",
    "train_df = train_df.rename(columns={'articleBody': 'Body_Text'})\n",
    "test_df = test_df.rename(columns={'articleBody': 'Body_Text'})"
   ]
  },
  {
   "cell_type": "code",
   "execution_count": 5,
   "metadata": {},
   "outputs": [
    {
     "data": {
      "text/html": [
       "<div>\n",
       "<style>\n",
       "    .dataframe thead tr:only-child th {\n",
       "        text-align: right;\n",
       "    }\n",
       "\n",
       "    .dataframe thead th {\n",
       "        text-align: left;\n",
       "    }\n",
       "\n",
       "    .dataframe tbody tr th {\n",
       "        vertical-align: top;\n",
       "    }\n",
       "</style>\n",
       "<table border=\"1\" class=\"dataframe\">\n",
       "  <thead>\n",
       "    <tr style=\"text-align: right;\">\n",
       "      <th></th>\n",
       "      <th>Headline</th>\n",
       "      <th>Body_ID</th>\n",
       "      <th>Stance</th>\n",
       "      <th>Body_Text</th>\n",
       "    </tr>\n",
       "  </thead>\n",
       "  <tbody>\n",
       "    <tr>\n",
       "      <th>7305</th>\n",
       "      <td>Apple to keep gold Watch Editions in special i...</td>\n",
       "      <td>1</td>\n",
       "      <td>unrelated</td>\n",
       "      <td>Al-Sisi has denied Israeli reports stating tha...</td>\n",
       "    </tr>\n",
       "    <tr>\n",
       "      <th>7303</th>\n",
       "      <td>Apple installing safes in-store to protect gol...</td>\n",
       "      <td>1</td>\n",
       "      <td>unrelated</td>\n",
       "      <td>Al-Sisi has denied Israeli reports stating tha...</td>\n",
       "    </tr>\n",
       "    <tr>\n",
       "      <th>7304</th>\n",
       "      <td>El-Sisi denies claims he'll give Sinai land to...</td>\n",
       "      <td>1</td>\n",
       "      <td>agree</td>\n",
       "      <td>Al-Sisi has denied Israeli reports stating tha...</td>\n",
       "    </tr>\n",
       "    <tr>\n",
       "      <th>7306</th>\n",
       "      <td>Apple Stores to Keep Gold “Edition” Apple Watc...</td>\n",
       "      <td>1</td>\n",
       "      <td>unrelated</td>\n",
       "      <td>Al-Sisi has denied Israeli reports stating tha...</td>\n",
       "    </tr>\n",
       "    <tr>\n",
       "      <th>7307</th>\n",
       "      <td>South Korean woman's hair 'eaten' by robot vac...</td>\n",
       "      <td>1</td>\n",
       "      <td>unrelated</td>\n",
       "      <td>Al-Sisi has denied Israeli reports stating tha...</td>\n",
       "    </tr>\n",
       "  </tbody>\n",
       "</table>\n",
       "</div>"
      ],
      "text/plain": [
       "                                               Headline  Body_ID     Stance  \\\n",
       "7305  Apple to keep gold Watch Editions in special i...        1  unrelated   \n",
       "7303  Apple installing safes in-store to protect gol...        1  unrelated   \n",
       "7304  El-Sisi denies claims he'll give Sinai land to...        1      agree   \n",
       "7306  Apple Stores to Keep Gold “Edition” Apple Watc...        1  unrelated   \n",
       "7307  South Korean woman's hair 'eaten' by robot vac...        1  unrelated   \n",
       "\n",
       "                                              Body_Text  \n",
       "7305  Al-Sisi has denied Israeli reports stating tha...  \n",
       "7303  Al-Sisi has denied Israeli reports stating tha...  \n",
       "7304  Al-Sisi has denied Israeli reports stating tha...  \n",
       "7306  Al-Sisi has denied Israeli reports stating tha...  \n",
       "7307  Al-Sisi has denied Israeli reports stating tha...  "
      ]
     },
     "execution_count": 5,
     "metadata": {},
     "output_type": "execute_result"
    }
   ],
   "source": [
    "test_df.sort_values(by=['Body_ID']).head(5)"
   ]
  },
  {
   "cell_type": "code",
   "execution_count": 6,
   "metadata": {},
   "outputs": [
    {
     "data": {
      "text/html": [
       "<div>\n",
       "<style>\n",
       "    .dataframe thead tr:only-child th {\n",
       "        text-align: right;\n",
       "    }\n",
       "\n",
       "    .dataframe thead th {\n",
       "        text-align: left;\n",
       "    }\n",
       "\n",
       "    .dataframe tbody tr th {\n",
       "        vertical-align: top;\n",
       "    }\n",
       "</style>\n",
       "<table border=\"1\" class=\"dataframe\">\n",
       "  <thead>\n",
       "    <tr style=\"text-align: right;\">\n",
       "      <th></th>\n",
       "      <th>Headline</th>\n",
       "      <th>Body_ID</th>\n",
       "      <th>Stance</th>\n",
       "      <th>Body_Text</th>\n",
       "    </tr>\n",
       "  </thead>\n",
       "  <tbody>\n",
       "    <tr>\n",
       "      <th>41651</th>\n",
       "      <td>Soldier shot, Parliament locked down after gun...</td>\n",
       "      <td>0</td>\n",
       "      <td>unrelated</td>\n",
       "      <td>A small meteorite crashed into a wooded area i...</td>\n",
       "    </tr>\n",
       "    <tr>\n",
       "      <th>41657</th>\n",
       "      <td>Italian catches huge wels catfish; is it a rec...</td>\n",
       "      <td>0</td>\n",
       "      <td>unrelated</td>\n",
       "      <td>A small meteorite crashed into a wooded area i...</td>\n",
       "    </tr>\n",
       "    <tr>\n",
       "      <th>41658</th>\n",
       "      <td>Not coming to a store near you: The pumpkin sp...</td>\n",
       "      <td>0</td>\n",
       "      <td>unrelated</td>\n",
       "      <td>A small meteorite crashed into a wooded area i...</td>\n",
       "    </tr>\n",
       "    <tr>\n",
       "      <th>41659</th>\n",
       "      <td>One gunman killed in shooting on Parliament Hi...</td>\n",
       "      <td>0</td>\n",
       "      <td>unrelated</td>\n",
       "      <td>A small meteorite crashed into a wooded area i...</td>\n",
       "    </tr>\n",
       "    <tr>\n",
       "      <th>41660</th>\n",
       "      <td>Soldier shot at war memorial in Canada</td>\n",
       "      <td>0</td>\n",
       "      <td>unrelated</td>\n",
       "      <td>A small meteorite crashed into a wooded area i...</td>\n",
       "    </tr>\n",
       "  </tbody>\n",
       "</table>\n",
       "</div>"
      ],
      "text/plain": [
       "                                                Headline  Body_ID     Stance  \\\n",
       "41651  Soldier shot, Parliament locked down after gun...        0  unrelated   \n",
       "41657  Italian catches huge wels catfish; is it a rec...        0  unrelated   \n",
       "41658  Not coming to a store near you: The pumpkin sp...        0  unrelated   \n",
       "41659  One gunman killed in shooting on Parliament Hi...        0  unrelated   \n",
       "41660             Soldier shot at war memorial in Canada        0  unrelated   \n",
       "\n",
       "                                               Body_Text  \n",
       "41651  A small meteorite crashed into a wooded area i...  \n",
       "41657  A small meteorite crashed into a wooded area i...  \n",
       "41658  A small meteorite crashed into a wooded area i...  \n",
       "41659  A small meteorite crashed into a wooded area i...  \n",
       "41660  A small meteorite crashed into a wooded area i...  "
      ]
     },
     "execution_count": 6,
     "metadata": {},
     "output_type": "execute_result"
    }
   ],
   "source": [
    "train_df.sort_values(by=['Body_ID']).head(5)"
   ]
  },
  {
   "cell_type": "code",
   "execution_count": 7,
   "metadata": {
    "collapsed": true
   },
   "outputs": [],
   "source": [
    "#Apply Scikit Learn TFIDF Feature Extraction Algorithm\n",
    "body_text_vectorizer = TfidfVectorizer(ngram_range=(1, 2), lowercase=True, stop_words='english',max_features=1024)\n",
    "headline_vectorizer = TfidfVectorizer(ngram_range=(1, 2), lowercase=True, stop_words='english',max_features=1024)\n",
    "\n",
    "#Create vocabulary based on training data\n",
    "train_body_tfidf = body_text_vectorizer.fit_transform(train_df['Body_Text'])\n",
    "train_headline_tfidf = headline_vectorizer.fit_transform(train_df['Headline'])\n",
    "\n",
    "#Use vocabulary for testing data\n",
    "test_body_tfidf = body_text_vectorizer.transform(test_df['Body_Text'])\n",
    "test_headline_tfidf = headline_vectorizer.transform(test_df['Headline'])"
   ]
  },
  {
   "cell_type": "code",
   "execution_count": 8,
   "metadata": {},
   "outputs": [
    {
     "data": {
      "text/plain": [
       "<1x1024 sparse matrix of type '<class 'numpy.float64'>'\n",
       "\twith 34 stored elements in Compressed Sparse Row format>"
      ]
     },
     "execution_count": 8,
     "metadata": {},
     "output_type": "execute_result"
    }
   ],
   "source": [
    "train_body_tfidf[0]"
   ]
  },
  {
   "cell_type": "code",
   "execution_count": 9,
   "metadata": {},
   "outputs": [
    {
     "data": {
      "text/plain": [
       "<1x1024 sparse matrix of type '<class 'numpy.float64'>'\n",
       "\twith 10 stored elements in Compressed Sparse Row format>"
      ]
     },
     "execution_count": 9,
     "metadata": {},
     "output_type": "execute_result"
    }
   ],
   "source": [
    "train_headline_tfidf[0]"
   ]
  },
  {
   "cell_type": "code",
   "execution_count": 10,
   "metadata": {},
   "outputs": [
    {
     "name": "stdout",
     "output_type": "stream",
     "text": [
      "  (0, 332)\t0.21723442952\n",
      "  (0, 689)\t0.327586484501\n",
      "  (0, 78)\t0.266411953695\n",
      "  (0, 347)\t0.117236954372\n",
      "  (0, 870)\t0.231179450995\n",
      "  (0, 471)\t0.600712680215\n",
      "  (0, 116)\t0.0818153766251\n",
      "  (0, 136)\t0.135276771531\n",
      "  (0, 840)\t0.128096663328\n",
      "  (0, 741)\t0.083971649992\n",
      "  (0, 1014)\t0.0726899751027\n",
      "  (0, 622)\t0.122306761113\n",
      "  (0, 198)\t0.0948914348433\n",
      "  (0, 645)\t0.0771207437796\n",
      "  (0, 640)\t0.117616840972\n",
      "  (0, 562)\t0.103367495456\n",
      "  (0, 806)\t0.0880628752502\n",
      "  (0, 900)\t0.11441287416\n",
      "  (0, 227)\t0.112455408311\n",
      "  (0, 190)\t0.114425967716\n",
      "  (0, 111)\t0.127989074129\n",
      "  (0, 37)\t0.116365810283\n",
      "  (0, 248)\t0.114191234884\n",
      "  (0, 843)\t0.085671211012\n",
      "  (0, 784)\t0.207991598627\n",
      "  :\t:\n",
      "  (49971, 278)\t0.0393187527713\n",
      "  (49971, 39)\t0.0387274273014\n",
      "  (49971, 305)\t0.0473208996525\n",
      "  (49971, 978)\t0.276515880077\n",
      "  (49971, 877)\t0.155937992539\n",
      "  (49971, 69)\t0.0441325314436\n",
      "  (49971, 555)\t0.0733436170549\n",
      "  (49971, 81)\t0.0499885476879\n",
      "  (49971, 124)\t0.0563253043726\n",
      "  (49971, 529)\t0.0434295088705\n",
      "  (49971, 366)\t0.0593902354402\n",
      "  (49971, 294)\t0.0594171698704\n",
      "  (49971, 79)\t0.371745715648\n",
      "  (49971, 194)\t0.0438418514044\n",
      "  (49971, 774)\t0.107745012579\n",
      "  (49971, 300)\t0.0493771779005\n",
      "  (49971, 560)\t0.052066228425\n",
      "  (49971, 222)\t0.0647707264376\n",
      "  (49971, 239)\t0.0595254646657\n",
      "  (49971, 1002)\t0.0503839735272\n",
      "  (49971, 242)\t0.0554933780065\n",
      "  (49971, 90)\t0.0545986530385\n",
      "  (49971, 688)\t0.0521847205633\n",
      "  (49971, 316)\t0.0582568019575\n",
      "  (49971, 798)\t0.0578997778856\n"
     ]
    }
   ],
   "source": [
    "#Tuple represents (Instance, Feature); value to the right of the tuple \n",
    "#represents the feature's tf-idf score\n",
    "print(train_body_tfidf)"
   ]
  },
  {
   "cell_type": "code",
   "execution_count": 11,
   "metadata": {
    "collapsed": true
   },
   "outputs": [],
   "source": [
    "#Merge headline and body_text tf-idf vectors together - Stack arrays in sequence horizontally\n",
    "train_features = hstack([train_body_tfidf, train_headline_tfidf])\n",
    "test_features = hstack([test_body_tfidf, test_headline_tfidf])"
   ]
  },
  {
   "cell_type": "code",
   "execution_count": 12,
   "metadata": {},
   "outputs": [
    {
     "name": "stdout",
     "output_type": "stream",
     "text": [
      "  (0, 332)\t0.21723442952\n",
      "  (0, 689)\t0.327586484501\n",
      "  (0, 78)\t0.266411953695\n",
      "  (0, 347)\t0.117236954372\n",
      "  (0, 870)\t0.231179450995\n",
      "  (0, 471)\t0.600712680215\n",
      "  (0, 116)\t0.0818153766251\n",
      "  (0, 136)\t0.135276771531\n",
      "  (0, 840)\t0.128096663328\n",
      "  (0, 741)\t0.083971649992\n",
      "  (0, 1014)\t0.0726899751027\n",
      "  (0, 622)\t0.122306761113\n",
      "  (0, 198)\t0.0948914348433\n",
      "  (0, 645)\t0.0771207437796\n",
      "  (0, 640)\t0.117616840972\n",
      "  (0, 562)\t0.103367495456\n",
      "  (0, 806)\t0.0880628752502\n",
      "  (0, 900)\t0.11441287416\n",
      "  (0, 227)\t0.112455408311\n",
      "  (0, 190)\t0.114425967716\n",
      "  (0, 111)\t0.127989074129\n",
      "  (0, 37)\t0.116365810283\n",
      "  (0, 248)\t0.114191234884\n",
      "  (0, 843)\t0.085671211012\n",
      "  (0, 784)\t0.207991598627\n",
      "  :\t:\n",
      "  (49966, 1282)\t0.320908465616\n",
      "  (49966, 1463)\t0.37038430602\n",
      "  (49966, 1435)\t0.302270939807\n",
      "  (49966, 1283)\t0.377935337556\n",
      "  (49966, 1038)\t0.415450536405\n",
      "  (49966, 1655)\t0.426963209073\n",
      "  (49967, 1078)\t0.699266941339\n",
      "  (49967, 1896)\t0.714860647084\n",
      "  (49968, 1790)\t0.66558912334\n",
      "  (49968, 1288)\t0.746318376359\n",
      "  (49969, 1222)\t0.413619538917\n",
      "  (49969, 1427)\t0.425460127206\n",
      "  (49969, 1106)\t0.332957973922\n",
      "  (49969, 1223)\t0.425460127206\n",
      "  (49969, 1817)\t0.360787749671\n",
      "  (49969, 1340)\t0.350498070779\n",
      "  (49969, 1661)\t0.320949415037\n",
      "  (49970, 1098)\t0.491049506088\n",
      "  (49970, 1762)\t0.506729589824\n",
      "  (49970, 1425)\t0.708586977983\n",
      "  (49971, 1098)\t0.599363776911\n",
      "  (49971, 2006)\t0.306801646001\n",
      "  (49971, 1100)\t0.330360265026\n",
      "  (49971, 1731)\t0.480465834359\n",
      "  (49971, 1896)\t0.454588264525\n"
     ]
    }
   ],
   "source": [
    "#Feature vector (the headline and body text features merged by hstack)\n",
    "#SVD should be applied here?\n",
    "print(train_features)"
   ]
  },
  {
   "cell_type": "code",
   "execution_count": 13,
   "metadata": {
    "collapsed": true
   },
   "outputs": [],
   "source": [
    "#Extract training and test labels\n",
    "train_labels = list(train_df['Stance'])\n",
    "test_labels = list(test_df['Stance'])"
   ]
  },
  {
   "cell_type": "code",
   "execution_count": 14,
   "metadata": {},
   "outputs": [
    {
     "data": {
      "text/plain": [
       "0.64042025734860109"
      ]
     },
     "execution_count": 14,
     "metadata": {},
     "output_type": "execute_result"
    }
   ],
   "source": [
    "#Initialize random forest classifier (Scikit Learn)\n",
    "rf_classifier = RandomForestClassifier(n_estimators=10)\n",
    "\n",
    "y_pred = rf_classifier.fit(train_features, train_labels).predict(test_features)\n",
    "\n",
    "accuracy_score(test_labels, y_pred)"
   ]
  },
  {
   "cell_type": "code",
   "execution_count": 15,
   "metadata": {},
   "outputs": [
    {
     "data": {
      "text/plain": [
       "0.70491480738204859"
      ]
     },
     "execution_count": 15,
     "metadata": {},
     "output_type": "execute_result"
    }
   ],
   "source": [
    "#Initialize multinomialnb classifier\n",
    "nb_classifier = MultinomialNB(alpha=1.0, class_prior=None, fit_prior=True)\n",
    "\n",
    "y_pred = nb_classifier.fit(train_features,train_labels).predict(test_features)\n",
    "\n",
    "accuracy_score(test_labels, y_pred)"
   ]
  },
  {
   "cell_type": "code",
   "execution_count": 16,
   "metadata": {},
   "outputs": [
    {
     "name": "stdout",
     "output_type": "stream",
     "text": [
      "-------------------------------------------------------------\n",
      "|           |   agree   | disagree  |  discuss  | unrelated |\n",
      "-------------------------------------------------------------\n",
      "|   agree   |    23     |     0     |    98     |   1782    |\n",
      "-------------------------------------------------------------\n",
      "| disagree  |     0     |     0     |     9     |    688    |\n",
      "-------------------------------------------------------------\n",
      "|  discuss  |    14     |     0     |    807    |   3643    |\n",
      "-------------------------------------------------------------\n",
      "| unrelated |    12     |     0     |   1253    |   17084   |\n",
      "-------------------------------------------------------------\n",
      "Score: 5131.25 out of 11651.25\t(44.04033901941852%)\n"
     ]
    },
    {
     "data": {
      "text/plain": [
       "44.04033901941852"
      ]
     },
     "execution_count": 16,
     "metadata": {},
     "output_type": "execute_result"
    }
   ],
   "source": [
    "score.report_score(test_labels,y_pred)"
   ]
  },
  {
   "cell_type": "code",
   "execution_count": null,
   "metadata": {
    "collapsed": true
   },
   "outputs": [],
   "source": [
    "#Add predicted labels to test dataframe\n",
    "#test_df['RF_Predicted_Stance'] = list(y_pred)\n",
    "#test_df2 = test_df[['Headline','Body_Text','RF_Predicted_Stance','Stance']]\n",
    "#test_df2[test_df2['RF_Predicted_Stance'] == 'unrelated']"
   ]
  },
  {
   "cell_type": "code",
   "execution_count": null,
   "metadata": {
    "collapsed": true
   },
   "outputs": [],
   "source": []
  },
  {
   "cell_type": "code",
   "execution_count": null,
   "metadata": {
    "collapsed": true
   },
   "outputs": [],
   "source": []
  }
 ],
 "metadata": {
  "kernelspec": {
   "display_name": "Python 3",
   "language": "python",
   "name": "python3"
  },
  "language_info": {
   "codemirror_mode": {
    "name": "ipython",
    "version": 3
   },
   "file_extension": ".py",
   "mimetype": "text/x-python",
   "name": "python",
   "nbconvert_exporter": "python",
   "pygments_lexer": "ipython3",
   "version": "3.6.3"
  }
 },
 "nbformat": 4,
 "nbformat_minor": 2
}
